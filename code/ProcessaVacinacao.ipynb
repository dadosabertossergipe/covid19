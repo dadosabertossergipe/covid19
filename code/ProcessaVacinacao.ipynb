{
 "cells": [
  {
   "cell_type": "markdown",
   "id": "d0e46fbf-4902-424f-9cc7-3cc1e32970b6",
   "metadata": {},
   "source": [
    "# Processando dados da vacinação \n",
    "\n",
    "Neste notebook você encontra todos os scripts para processamento dos boletins da vacinação publicados quase que diariamente pela secretaria de estado da saúde. \n",
    "\n",
    "Os boletins são publicados em formato excel e baixados manualmente para a pasta input. Os boletins forma renomeados para o formato **YYYY-MM-DD.xlsx**. "
   ]
  },
  {
   "cell_type": "code",
   "execution_count": null,
   "id": "7e1d8a69-2b96-4659-8fb7-ecb1c4418051",
   "metadata": {},
   "outputs": [],
   "source": []
  }
 ],
 "metadata": {
  "kernelspec": {
   "display_name": "Python 3 (ipykernel)",
   "language": "python",
   "name": "python3"
  },
  "language_info": {
   "codemirror_mode": {
    "name": "ipython",
    "version": 3
   },
   "file_extension": ".py",
   "mimetype": "text/x-python",
   "name": "python",
   "nbconvert_exporter": "python",
   "pygments_lexer": "ipython3",
   "version": "3.8.12"
  }
 },
 "nbformat": 4,
 "nbformat_minor": 5
}
